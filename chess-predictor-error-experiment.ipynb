{
 "cells": [
  {
   "cell_type": "code",
   "execution_count": 1,
   "id": "50cddbb5",
   "metadata": {
    "_cell_guid": "b1076dfc-b9ad-4769-8c92-a6c4dae69d19",
    "_uuid": "8f2839f25d086af736a60e9eeb907d3b93b6e0e5",
    "execution": {
     "iopub.execute_input": "2025-04-27T15:32:32.709874Z",
     "iopub.status.busy": "2025-04-27T15:32:32.709688Z",
     "iopub.status.idle": "2025-04-27T15:32:40.587930Z",
     "shell.execute_reply": "2025-04-27T15:32:40.587200Z"
    },
    "papermill": {
     "duration": 7.882133,
     "end_time": "2025-04-27T15:32:40.589187",
     "exception": false,
     "start_time": "2025-04-27T15:32:32.707054",
     "status": "completed"
    },
    "tags": []
   },
   "outputs": [
    {
     "name": "stdout",
     "output_type": "stream",
     "text": [
      "Collecting chess\r\n",
      "  Downloading chess-1.11.2.tar.gz (6.1 MB)\r\n",
      "\u001b[2K     \u001b[90m━━━━━━━━━━━━━━━━━━━━━━━━━━━━━━━━━━━━━━━━\u001b[0m \u001b[32m6.1/6.1 MB\u001b[0m \u001b[31m52.3 MB/s\u001b[0m eta \u001b[36m0:00:00\u001b[0m\r\n",
      "\u001b[?25h  Preparing metadata (setup.py) ... \u001b[?25l\u001b[?25hdone\r\n",
      "Building wheels for collected packages: chess\r\n",
      "  Building wheel for chess (setup.py) ... \u001b[?25l\u001b[?25hdone\r\n",
      "  Created wheel for chess: filename=chess-1.11.2-py3-none-any.whl size=147776 sha256=efd0ce21153a791fb6126858e04e6ca163429f6ff1d59295b550564fbec81b90\r\n",
      "  Stored in directory: /root/.cache/pip/wheels/fb/5d/5c/59a62d8a695285e59ec9c1f66add6f8a9ac4152499a2be0113\r\n",
      "Successfully built chess\r\n",
      "Installing collected packages: chess\r\n",
      "Successfully installed chess-1.11.2\r\n"
     ]
    }
   ],
   "source": [
    "!pip install chess"
   ]
  },
  {
   "cell_type": "code",
   "execution_count": 2,
   "id": "ccc8449a",
   "metadata": {
    "execution": {
     "iopub.execute_input": "2025-04-27T15:32:40.595044Z",
     "iopub.status.busy": "2025-04-27T15:32:40.594399Z",
     "iopub.status.idle": "2025-04-27T15:33:08.701000Z",
     "shell.execute_reply": "2025-04-27T15:33:08.700069Z"
    },
    "papermill": {
     "duration": 28.110493,
     "end_time": "2025-04-27T15:33:08.702181",
     "exception": false,
     "start_time": "2025-04-27T15:32:40.591688",
     "status": "completed"
    },
    "tags": []
   },
   "outputs": [
    {
     "name": "stdout",
     "output_type": "stream",
     "text": [
      "Loaded 976124 games\n",
      "Games after removing draws: 938864\n",
      "Loaders ready!\n"
     ]
    }
   ],
   "source": [
    "import numpy as np\n",
    "import pickle\n",
    "import torch\n",
    "import torch.nn as nn\n",
    "import torch.optim as optim\n",
    "from torch.utils.data import Dataset, DataLoader, random_split\n",
    "from tqdm import tqdm\n",
    "import chess\n",
    "import matplotlib.pyplot as plt\n",
    "from sklearn.metrics import confusion_matrix, classification_report\n",
    "\n",
    "move_encoding = {}\n",
    "p2i = {\n",
    "    chess.PAWN:   0, chess.KNIGHT: 1, chess.BISHOP: 2,\n",
    "    chess.ROOK:   3, chess.QUEEN:  4, chess.KING:   5,\n",
    "}\n",
    "\n",
    "dataset_path = \"/kaggle/input/chess-dataset/lichess_processed_1000000_games_first_15_moves.pkl\"\n",
    "with open(dataset_path, 'rb') as f:\n",
    "    raw_games = pickle.load(f)\n",
    "print(f\"Loaded {len(raw_games)} games\")\n",
    "\n",
    "raw_games = [g for g in raw_games if g['result'] in ('1-0', '0-1')]\n",
    "print(f\"Games after removing draws: {len(raw_games)}\")\n",
    "\n",
    "eco_codes = sorted({g['eco'] for g in raw_games})\n",
    "eco_encoding = {eco: idx for idx, eco in enumerate(eco_codes, start=1)}\n",
    "default_eco = -1\n",
    "\n",
    "def convert_game_to_tensor(game_data):\n",
    "    fv = [\n",
    "        game_data['white_material'], game_data['black_material'],\n",
    "        game_data['material_balance'],\n",
    "        int(game_data['white_can_castle']), int(game_data['black_can_castle']),\n",
    "        game_data['white_center_control'], game_data['black_center_control'],\n",
    "    ]\n",
    "    lm = game_data['legal_moves_count'][:15]\n",
    "    lm += [0] * (15 - len(lm))\n",
    "    fv.extend(lm)\n",
    "    fv.append(eco_encoding.get(game_data['eco'], default_eco))\n",
    "    mi = []\n",
    "    for mv in game_data['moves'][:15]:\n",
    "        if mv not in move_encoding:\n",
    "            move_encoding[mv] = len(move_encoding)\n",
    "        mi.append(move_encoding[mv])\n",
    "    mi += [0] * (15 - len(mi))\n",
    "    fv.extend(mi)\n",
    "    fv = np.array(fv, dtype=np.float32)\n",
    "\n",
    "    board_sequence = []\n",
    "    start_mat = 39\n",
    "    total_plys = len(game_data['legal_moves_count'])\n",
    "    for i in range(15):\n",
    "        prog = (i+1)/15\n",
    "        w_mat = int(start_mat*(1-prog) + game_data['white_material']*prog)\n",
    "        b_mat = int(start_mat*(1-prog) + game_data['black_material']*prog)\n",
    "        mat_bal = w_mat - b_mat\n",
    "        idx_w, idx_b = i*2, i*2+1\n",
    "        lm_w = game_data['legal_moves_count'][idx_w] if idx_w < total_plys else 0\n",
    "        lm_b = game_data['legal_moves_count'][idx_b] if idx_b < total_plys else 0\n",
    "        board_sequence.append([w_mat, b_mat, mat_bal, lm_w, lm_b, i])\n",
    "    bs = np.array(board_sequence, dtype=np.float32)\n",
    "\n",
    "    board = chess.Board()\n",
    "    board_seq = []\n",
    "    for mv in game_data['moves'][:15]:\n",
    "        try:\n",
    "            board.push_san(mv)\n",
    "        except:\n",
    "            board.push_uci(mv)\n",
    "        one_hot = np.zeros((12,8,8), dtype=np.float32)\n",
    "        for sq, piece in board.piece_map().items():\n",
    "            r, f = 7-(sq//8), sq%8\n",
    "            idx = (0 if piece.color else 6) + p2i[piece.piece_type]\n",
    "            one_hot[idx, r, f] = 1\n",
    "        board_seq.append(one_hot)\n",
    "    while len(board_seq) < 15:\n",
    "        board_seq.append(np.zeros((12,8,8), dtype=np.float32))\n",
    "    board_seq = np.stack(board_seq, axis=0)\n",
    "\n",
    "    return fv, bs, board_seq\n",
    "\n",
    "class ChessSequenceDataset(Dataset):\n",
    "    def __init__(self, games, result_map=None):\n",
    "        self.games = games\n",
    "        self.result_map = result_map or {'1-0': 0, '0-1': 1}\n",
    "\n",
    "    def __len__(self):\n",
    "        return len(self.games)\n",
    "\n",
    "    def __getitem__(self, idx):\n",
    "        game = self.games[idx]\n",
    "        fv, bs, img = convert_game_to_tensor(game)\n",
    "        label = self.result_map[game['result']]\n",
    "        return (\n",
    "            torch.tensor(fv),\n",
    "            torch.tensor(bs),\n",
    "            torch.tensor(img),\n",
    "            torch.tensor(label, dtype=torch.long)\n",
    "        )\n",
    "\n",
    "dataset = ChessSequenceDataset(raw_games)\n",
    "train_size = int(0.8 * len(dataset))\n",
    "train_ds, test_ds = random_split(dataset, [train_size, len(dataset) - train_size])\n",
    "\n",
    "train_loader = DataLoader(train_ds, batch_size=128, shuffle=True,\n",
    "                          num_workers=4, pin_memory=True)\n",
    "test_loader  = DataLoader(test_ds, batch_size=128,\n",
    "                          num_workers=4, pin_memory=True)\n",
    "\n",
    "print(\"Loaders ready!\")\n"
   ]
  },
  {
   "cell_type": "code",
   "execution_count": 3,
   "id": "9888d494",
   "metadata": {
    "execution": {
     "iopub.execute_input": "2025-04-27T15:33:08.707602Z",
     "iopub.status.busy": "2025-04-27T15:33:08.707256Z",
     "iopub.status.idle": "2025-04-27T18:25:36.590472Z",
     "shell.execute_reply": "2025-04-27T18:25:36.589547Z"
    },
    "papermill": {
     "duration": 10349.925683,
     "end_time": "2025-04-27T18:25:38.629989",
     "exception": false,
     "start_time": "2025-04-27T15:33:08.704306",
     "status": "completed"
    },
    "tags": []
   },
   "outputs": [
    {
     "name": "stderr",
     "output_type": "stream",
     "text": [
      "/usr/local/lib/python3.11/dist-packages/torch/optim/lr_scheduler.py:62: UserWarning: The verbose parameter is deprecated. Please use get_last_lr() to access the learning rate.\n",
      "  warnings.warn(\n",
      "Epoch 1 train: 100%|██████████| 5868/5868 [06:07<00:00, 15.96it/s]\n",
      "Epoch 1 val: 100%|██████████| 1467/1467 [01:30<00:00, 16.14it/s]\n"
     ]
    },
    {
     "name": "stdout",
     "output_type": "stream",
     "text": [
      "Ep1 Train: 0.6483 | Val: 0.6382, Acc: 0.5953\n",
      "  New best model saved.\n"
     ]
    },
    {
     "name": "stderr",
     "output_type": "stream",
     "text": [
      "Epoch 2 train: 100%|██████████| 5868/5868 [06:08<00:00, 15.91it/s]\n",
      "Epoch 2 val: 100%|██████████| 1467/1467 [01:31<00:00, 16.09it/s]\n"
     ]
    },
    {
     "name": "stdout",
     "output_type": "stream",
     "text": [
      "Ep2 Train: 0.6357 | Val: 0.6340, Acc: 0.6016\n",
      "  New best model saved.\n"
     ]
    },
    {
     "name": "stderr",
     "output_type": "stream",
     "text": [
      "Epoch 3 train: 100%|██████████| 5868/5868 [06:09<00:00, 15.88it/s]\n",
      "Epoch 3 val: 100%|██████████| 1467/1467 [01:31<00:00, 16.11it/s]\n"
     ]
    },
    {
     "name": "stdout",
     "output_type": "stream",
     "text": [
      "Ep3 Train: 0.6336 | Val: 0.6338, Acc: 0.5976\n",
      "  New best model saved.\n"
     ]
    },
    {
     "name": "stderr",
     "output_type": "stream",
     "text": [
      "Epoch 4 train: 100%|██████████| 5868/5868 [06:09<00:00, 15.87it/s]\n",
      "Epoch 4 val: 100%|██████████| 1467/1467 [01:30<00:00, 16.12it/s]\n"
     ]
    },
    {
     "name": "stdout",
     "output_type": "stream",
     "text": [
      "Ep4 Train: 0.6326 | Val: 0.6324, Acc: 0.6017\n",
      "  New best model saved.\n"
     ]
    },
    {
     "name": "stderr",
     "output_type": "stream",
     "text": [
      "Epoch 5 train: 100%|██████████| 5868/5868 [06:10<00:00, 15.82it/s]\n",
      "Epoch 5 val: 100%|██████████| 1467/1467 [01:31<00:00, 16.03it/s]\n"
     ]
    },
    {
     "name": "stdout",
     "output_type": "stream",
     "text": [
      "Ep5 Train: 0.6321 | Val: 0.6331, Acc: 0.6017\n"
     ]
    },
    {
     "name": "stderr",
     "output_type": "stream",
     "text": [
      "Epoch 6 train: 100%|██████████| 5868/5868 [06:09<00:00, 15.89it/s]\n",
      "Epoch 6 val: 100%|██████████| 1467/1467 [01:31<00:00, 16.01it/s]\n"
     ]
    },
    {
     "name": "stdout",
     "output_type": "stream",
     "text": [
      "Ep6 Train: 0.6316 | Val: 0.6323, Acc: 0.6023\n"
     ]
    },
    {
     "name": "stderr",
     "output_type": "stream",
     "text": [
      "Epoch 7 train: 100%|██████████| 5868/5868 [06:11<00:00, 15.81it/s]\n",
      "Epoch 7 val: 100%|██████████| 1467/1467 [01:31<00:00, 15.96it/s]\n"
     ]
    },
    {
     "name": "stdout",
     "output_type": "stream",
     "text": [
      "Ep7 Train: 0.6313 | Val: 0.6318, Acc: 0.6019\n",
      "  New best model saved.\n"
     ]
    },
    {
     "name": "stderr",
     "output_type": "stream",
     "text": [
      "Epoch 8 train: 100%|██████████| 5868/5868 [06:14<00:00, 15.68it/s]\n",
      "Epoch 8 val: 100%|██████████| 1467/1467 [01:32<00:00, 15.93it/s]\n"
     ]
    },
    {
     "name": "stdout",
     "output_type": "stream",
     "text": [
      "Ep8 Train: 0.6310 | Val: 0.6326, Acc: 0.6016\n"
     ]
    },
    {
     "name": "stderr",
     "output_type": "stream",
     "text": [
      "Epoch 9 train: 100%|██████████| 5868/5868 [06:11<00:00, 15.78it/s]\n",
      "Epoch 9 val: 100%|██████████| 1467/1467 [01:32<00:00, 15.93it/s]\n"
     ]
    },
    {
     "name": "stdout",
     "output_type": "stream",
     "text": [
      "Ep9 Train: 0.6308 | Val: 0.6322, Acc: 0.6014\n"
     ]
    },
    {
     "name": "stderr",
     "output_type": "stream",
     "text": [
      "Epoch 10 train: 100%|██████████| 5868/5868 [06:13<00:00, 15.69it/s]\n",
      "Epoch 10 val: 100%|██████████| 1467/1467 [01:32<00:00, 15.94it/s]\n"
     ]
    },
    {
     "name": "stdout",
     "output_type": "stream",
     "text": [
      "Ep10 Train: 0.6306 | Val: 0.6320, Acc: 0.6013\n"
     ]
    },
    {
     "name": "stderr",
     "output_type": "stream",
     "text": [
      "Epoch 11 train: 100%|██████████| 5868/5868 [06:13<00:00, 15.71it/s]\n",
      "Epoch 11 val: 100%|██████████| 1467/1467 [01:32<00:00, 15.87it/s]\n"
     ]
    },
    {
     "name": "stdout",
     "output_type": "stream",
     "text": [
      "Ep11 Train: 0.6303 | Val: 0.6318, Acc: 0.6025\n"
     ]
    },
    {
     "name": "stderr",
     "output_type": "stream",
     "text": [
      "Epoch 12 train: 100%|██████████| 5868/5868 [06:14<00:00, 15.68it/s]\n",
      "Epoch 12 val: 100%|██████████| 1467/1467 [01:31<00:00, 15.95it/s]\n"
     ]
    },
    {
     "name": "stdout",
     "output_type": "stream",
     "text": [
      "Ep12 Train: 0.6295 | Val: 0.6316, Acc: 0.6031\n",
      "  New best model saved.\n"
     ]
    },
    {
     "name": "stderr",
     "output_type": "stream",
     "text": [
      "Epoch 13 train: 100%|██████████| 5868/5868 [06:14<00:00, 15.66it/s]\n",
      "Epoch 13 val: 100%|██████████| 1467/1467 [01:32<00:00, 15.89it/s]\n"
     ]
    },
    {
     "name": "stdout",
     "output_type": "stream",
     "text": [
      "Ep13 Train: 0.6292 | Val: 0.6316, Acc: 0.6022\n"
     ]
    },
    {
     "name": "stderr",
     "output_type": "stream",
     "text": [
      "Epoch 14 train: 100%|██████████| 5868/5868 [06:15<00:00, 15.64it/s]\n",
      "Epoch 14 val: 100%|██████████| 1467/1467 [01:31<00:00, 16.06it/s]\n"
     ]
    },
    {
     "name": "stdout",
     "output_type": "stream",
     "text": [
      "Ep14 Train: 0.6291 | Val: 0.6315, Acc: 0.6032\n"
     ]
    },
    {
     "name": "stderr",
     "output_type": "stream",
     "text": [
      "Epoch 15 train: 100%|██████████| 5868/5868 [06:16<00:00, 15.59it/s]\n",
      "Epoch 15 val: 100%|██████████| 1467/1467 [01:32<00:00, 15.93it/s]\n"
     ]
    },
    {
     "name": "stdout",
     "output_type": "stream",
     "text": [
      "Ep15 Train: 0.6289 | Val: 0.6318, Acc: 0.6025\n"
     ]
    },
    {
     "name": "stderr",
     "output_type": "stream",
     "text": [
      "Epoch 16 train: 100%|██████████| 5868/5868 [06:16<00:00, 15.60it/s]\n",
      "Epoch 16 val: 100%|██████████| 1467/1467 [01:31<00:00, 15.95it/s]\n"
     ]
    },
    {
     "name": "stdout",
     "output_type": "stream",
     "text": [
      "Ep16 Train: 0.6288 | Val: 0.6317, Acc: 0.6027\n"
     ]
    },
    {
     "name": "stderr",
     "output_type": "stream",
     "text": [
      "Epoch 17 train: 100%|██████████| 5868/5868 [06:17<00:00, 15.55it/s]\n",
      "Epoch 17 val: 100%|██████████| 1467/1467 [01:33<00:00, 15.69it/s]\n"
     ]
    },
    {
     "name": "stdout",
     "output_type": "stream",
     "text": [
      "Ep17 Train: 0.6287 | Val: 0.6322, Acc: 0.6000\n"
     ]
    },
    {
     "name": "stderr",
     "output_type": "stream",
     "text": [
      "Epoch 18 train: 100%|██████████| 5868/5868 [06:17<00:00, 15.53it/s]\n",
      "Epoch 18 val: 100%|██████████| 1467/1467 [01:33<00:00, 15.76it/s]\n"
     ]
    },
    {
     "name": "stdout",
     "output_type": "stream",
     "text": [
      "Ep18 Train: 0.6285 | Val: 0.6318, Acc: 0.6017\n"
     ]
    },
    {
     "name": "stderr",
     "output_type": "stream",
     "text": [
      "Epoch 19 train: 100%|██████████| 5868/5868 [06:16<00:00, 15.59it/s]\n",
      "Epoch 19 val: 100%|██████████| 1467/1467 [01:32<00:00, 15.83it/s]\n"
     ]
    },
    {
     "name": "stdout",
     "output_type": "stream",
     "text": [
      "Ep19 Train: 0.6279 | Val: 0.6322, Acc: 0.6008\n"
     ]
    },
    {
     "name": "stderr",
     "output_type": "stream",
     "text": [
      "Epoch 20 train: 100%|██████████| 5868/5868 [06:17<00:00, 15.55it/s]\n",
      "Epoch 20 val: 100%|██████████| 1467/1467 [01:33<00:00, 15.74it/s]\n"
     ]
    },
    {
     "name": "stdout",
     "output_type": "stream",
     "text": [
      "Ep20 Train: 0.6278 | Val: 0.6319, Acc: 0.6008\n"
     ]
    },
    {
     "name": "stderr",
     "output_type": "stream",
     "text": [
      "Epoch 21 train: 100%|██████████| 5868/5868 [06:18<00:00, 15.51it/s]\n",
      "Epoch 21 val: 100%|██████████| 1467/1467 [01:33<00:00, 15.69it/s]\n"
     ]
    },
    {
     "name": "stdout",
     "output_type": "stream",
     "text": [
      "Ep21 Train: 0.6276 | Val: 0.6317, Acc: 0.6017\n"
     ]
    },
    {
     "name": "stderr",
     "output_type": "stream",
     "text": [
      "Epoch 22 train: 100%|██████████| 5868/5868 [06:17<00:00, 15.53it/s]\n",
      "Epoch 22 val: 100%|██████████| 1467/1467 [01:33<00:00, 15.67it/s]\n"
     ]
    },
    {
     "name": "stdout",
     "output_type": "stream",
     "text": [
      "Ep22 Train: 0.6275 | Val: 0.6319, Acc: 0.6024\n",
      "Early stopping triggered.\n"
     ]
    },
    {
     "data": {
      "image/png": "[encoded data removed]",
      "text/plain": [
       "<Figure size 1200x500 with 2 Axes>"
      ]
     },
     "metadata": {},
     "output_type": "display_data"
    },
    {
     "name": "stdout",
     "output_type": "stream",
     "text": [
      "Confusion Matrix:\n",
      " [[67640 30056]\n",
      " [44594 45483]]\n",
      "\n",
      "Classification Report:\n",
      "              precision    recall  f1-score   support\n",
      "\n",
      "       White       0.60      0.69      0.64     97696\n",
      "       Black       0.60      0.50      0.55     90077\n",
      "\n",
      "    accuracy                           0.60    187773\n",
      "   macro avg       0.60      0.60      0.60    187773\n",
      "weighted avg       0.60      0.60      0.60    187773\n",
      "\n"
     ]
    }
   ],
   "source": [
    "import numpy as np      \n",
    "import torch\n",
    "import torch.nn as nn\n",
    "import torch.optim as optim\n",
    "from torch.utils.data import DataLoader, random_split\n",
    "from tqdm import tqdm\n",
    "import matplotlib.pyplot as plt\n",
    "from sklearn.metrics import confusion_matrix, classification_report\n",
    "\n",
    "# Model class\n",
    "class ChessModel(nn.Module):\n",
    "    def __init__(self, tabular_size, seq_num_size, board_ch, H, W,\n",
    "                 cnn_embed=64, lstm_hidden=64):\n",
    "        super().__init__()\n",
    "        self.tab_net = nn.Sequential(\n",
    "            nn.Linear(tabular_size, 64),\n",
    "            nn.ReLU()\n",
    "        )\n",
    "        self.cnn = nn.Sequential(\n",
    "            nn.Conv2d(board_ch, 32, 3, padding=1), nn.ReLU(),\n",
    "            nn.MaxPool2d(2),\n",
    "            nn.Conv2d(32, 64, 3, padding=1), nn.ReLU(),\n",
    "            nn.AdaptiveAvgPool2d(1),\n",
    "            nn.Flatten(),\n",
    "            nn.Linear(64, cnn_embed), nn.ReLU()\n",
    "        )\n",
    "        self.lstm = nn.LSTM(\n",
    "            input_size=cnn_embed + seq_num_size,\n",
    "            hidden_size=lstm_hidden,\n",
    "            num_layers=1,\n",
    "            batch_first=True,\n",
    "            bidirectional=True\n",
    "        )\n",
    "        self.classifier = nn.Sequential(\n",
    "            nn.Linear(64 + 2*lstm_hidden, 64),\n",
    "            nn.ReLU(),\n",
    "            nn.Linear(64, 1)   # 🔥 only 1 output now\n",
    "        )\n",
    "\n",
    "    def forward(self, tab, num_seq, img_seq):\n",
    "        B, S, C, H, W = img_seq.shape\n",
    "        t = self.tab_net(tab)                        \n",
    "        x = img_seq.view(B*S, C, H, W)\n",
    "        e = self.cnn(x).view(B, S, -1)             \n",
    "        seq_in = torch.cat([num_seq, e], dim=2)   \n",
    "        _, (h_n, _) = self.lstm(seq_in)         \n",
    "        l = torch.cat([h_n[0], h_n[1]], dim=1)  \n",
    "        out = torch.cat([t, l], dim=1)             \n",
    "        return self.classifier(out).squeeze(1)  # 🔥 squeeze output to shape (B,)\n",
    "\n",
    "# Setup\n",
    "device = torch.device('cuda' if torch.cuda.is_available() else 'cpu')\n",
    "sample_tab, sample_seq, sample_img, _ = next(iter(train_loader))\n",
    "_, S, C, H, W = sample_img.shape\n",
    "\n",
    "model = ChessModel(\n",
    "    tabular_size=sample_tab.shape[1],\n",
    "    seq_num_size=sample_seq.shape[2],\n",
    "    board_ch=C, H=H, W=W\n",
    ").to(device)\n",
    "\n",
    "# 🔥 New Loss Function\n",
    "criterion = nn.BCEWithLogitsLoss()\n",
    "\n",
    "optimizer = optim.Adam(model.parameters(), lr=3e-4)\n",
    "scheduler = optim.lr_scheduler.ReduceLROnPlateau(\n",
    "    optimizer, mode='min', factor=0.5, patience=3, verbose=True\n",
    ")\n",
    "\n",
    "# Model trainng method\n",
    "def train_model(model, train_loader, val_loader, epochs=50):\n",
    "    best_loss = float('inf')\n",
    "    stop_counter = 0\n",
    "    patience = 10 \n",
    "    train_losses = []\n",
    "    val_losses = []\n",
    "    val_accuracies = []\n",
    "\n",
    "    for ep in range(1, epochs+1):\n",
    "        model.train()\n",
    "        total_train = 0\n",
    "        for t, s, i, y in tqdm(train_loader, desc=f\"Epoch {ep} train\"):\n",
    "            t, s, i, y = t.to(device), s.to(device), i.to(device), y.to(device).float()\n",
    "            optimizer.zero_grad()\n",
    "            out = model(t, s, i)\n",
    "            loss = criterion(out, y)\n",
    "            loss.backward()\n",
    "            optimizer.step()\n",
    "            total_train += loss.item() * t.size(0)\n",
    "        avg_train = total_train / len(train_loader.dataset)\n",
    "\n",
    "        model.eval()\n",
    "        total_val = correct = 0\n",
    "        with torch.no_grad():\n",
    "            for t, s, i, y in tqdm(val_loader, desc=f\"Epoch {ep} val\"):\n",
    "                t, s, i, y = t.to(device), s.to(device), i.to(device), y.to(device).float()\n",
    "                out = model(t, s, i)\n",
    "                loss = criterion(out, y)\n",
    "                total_val += loss.item() * t.size(0)\n",
    "                preds = (torch.sigmoid(out) > 0.5).long()\n",
    "                correct += (preds == y.long()).sum().item()\n",
    "        avg_val = total_val / len(val_loader.dataset)\n",
    "        acc_val = correct / len(val_loader.dataset)\n",
    "\n",
    "        print(f\"Ep{ep} Train: {avg_train:.4f} | Val: {avg_val:.4f}, Acc: {acc_val:.4f}\")\n",
    "        \n",
    "        train_losses.append(avg_train)\n",
    "        val_losses.append(avg_val)\n",
    "        val_accuracies.append(acc_val)\n",
    "\n",
    "        scheduler.step(avg_val)\n",
    "\n",
    "        if avg_val < best_loss - 1e-4:\n",
    "            best_loss = avg_val\n",
    "            stop_counter = 0\n",
    "            torch.save(model.state_dict(), f'best_epoch{ep}.pth')\n",
    "            print(\"  New best model saved.\")\n",
    "        else:\n",
    "            stop_counter += 1\n",
    "            if stop_counter >= patience:\n",
    "                print(\"Early stopping triggered.\")\n",
    "                break\n",
    "\n",
    "    # Plotting Losses and Accuracy\n",
    "    epochs_range = range(1, len(train_losses)+1)\n",
    "    plt.figure(figsize=(12,5))\n",
    "\n",
    "    plt.subplot(1,2,1)\n",
    "    plt.plot(epochs_range, train_losses, label='Train Loss')\n",
    "    plt.plot(epochs_range, val_losses, label='Validation Loss')\n",
    "    plt.xlabel('Epoch')\n",
    "    plt.ylabel('Loss')\n",
    "    plt.title('Loss vs Epoch')\n",
    "    plt.legend()\n",
    "\n",
    "    plt.subplot(1,2,2)\n",
    "    plt.plot(epochs_range, val_accuracies, label='Validation Accuracy')\n",
    "    plt.xlabel('Epoch')\n",
    "    plt.ylabel('Accuracy')\n",
    "    plt.title('Validation Accuracy vs Epoch')\n",
    "    plt.legend()\n",
    "\n",
    "    plt.tight_layout()\n",
    "    plt.show()\n",
    "\n",
    "    return model\n",
    "\n",
    "# Evaluating Model \n",
    "def evaluate_model(model, loader):\n",
    "    model.eval()\n",
    "    all_preds, all_labels = [], []\n",
    "    with torch.no_grad():\n",
    "        for t, s, i, y in loader:\n",
    "            t, s, i = t.to(device), s.to(device), i.to(device)\n",
    "            out = model(t, s, i)\n",
    "            preds = (torch.sigmoid(out) > 0.5).long().cpu().numpy()\n",
    "            all_preds.extend(preds)\n",
    "            all_labels.extend(y.numpy())\n",
    "\n",
    "    cm = confusion_matrix(all_labels, all_preds)\n",
    "    print(\"Confusion Matrix:\\n\", cm)\n",
    "    print(\"\\nClassification Report:\")\n",
    "    print(classification_report(all_labels, all_preds,\n",
    "          target_names=['White','Black']))\n",
    "\n",
    "# Training \n",
    "model = train_model(model, train_loader, test_loader, epochs=50)\n",
    "evaluate_model(model, test_loader)\n"
   ]
  }
 ],
 "metadata": {
  "kaggle": {
   "accelerator": "nvidiaTeslaT4",
   "dataSources": [
    {
     "datasetId": 7099910,
     "sourceId": 11347007,
     "sourceType": "datasetVersion"
    }
   ],
   "dockerImageVersionId": 31011,
   "isGpuEnabled": true,
   "isInternetEnabled": true,
   "language": "python",
   "sourceType": "notebook"
  },
  "kernelspec": {
   "display_name": "Python 3",
   "language": "python",
   "name": "python3"
  },
  "language_info": {
   "codemirror_mode": {
    "name": "ipython",
    "version": 3
   },
   "file_extension": ".py",
   "mimetype": "text/x-python",
   "name": "python",
   "nbconvert_exporter": "python",
   "pygments_lexer": "ipython3",
   "version": "3.11.11"
  },
  "papermill": {
   "default_parameters": {},
   "duration": 10396.714527,
   "end_time": "2025-04-27T18:25:43.706058",
   "environment_variables": {},
   "exception": null,
   "input_path": "__notebook__.ipynb",
   "output_path": "__notebook__.ipynb",
   "parameters": {},
   "start_time": "2025-04-27T15:32:26.991531",
   "version": "2.6.0"
  }
 },
 "nbformat": 4,
 "nbformat_minor": 5
}
