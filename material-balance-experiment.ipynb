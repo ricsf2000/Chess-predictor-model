{
 "cells": [
  {
   "cell_type": "code",
   "execution_count": 1,
   "id": "9cd486ad",
   "metadata": {
    "execution": {
     "iopub.execute_input": "2025-04-29T02:56:42.894401Z",
     "iopub.status.busy": "2025-04-29T02:56:42.894088Z",
     "iopub.status.idle": "2025-04-29T02:56:50.727773Z",
     "shell.execute_reply": "2025-04-29T02:56:50.726780Z"
    },
    "papermill": {
     "duration": 7.838792,
     "end_time": "2025-04-29T02:56:50.729387",
     "exception": false,
     "start_time": "2025-04-29T02:56:42.890595",
     "status": "completed"
    },
    "tags": []
   },
   "outputs": [
    {
     "name": "stdout",
     "output_type": "stream",
     "text": [
      "Collecting chess\r\n",
      "  Downloading chess-1.11.2.tar.gz (6.1 MB)\r\n",
      "\u001b[2K     \u001b[90m━━━━━━━━━━━━━━━━━━━━━━━━━━━━━━━━━━━━━━━━\u001b[0m \u001b[32m6.1/6.1 MB\u001b[0m \u001b[31m69.3 MB/s\u001b[0m eta \u001b[36m0:00:00\u001b[0m\r\n",
      "\u001b[?25h  Preparing metadata (setup.py) ... \u001b[?25l\u001b[?25hdone\r\n",
      "Building wheels for collected packages: chess\r\n",
      "  Building wheel for chess (setup.py) ... \u001b[?25l\u001b[?25hdone\r\n",
      "  Created wheel for chess: filename=chess-1.11.2-py3-none-any.whl size=147776 sha256=38612bc5a4d2ba45335a25817dc948aaeb5010eb637c6c6d22a45d518b674a65\r\n",
      "  Stored in directory: /root/.cache/pip/wheels/fb/5d/5c/59a62d8a695285e59ec9c1f66add6f8a9ac4152499a2be0113\r\n",
      "Successfully built chess\r\n",
      "Installing collected packages: chess\r\n",
      "Successfully installed chess-1.11.2\r\n"
     ]
    }
   ],
   "source": [
    "!pip install chess"
   ]
  },
  {
   "cell_type": "code",
   "execution_count": 2,
   "id": "557100ac",
   "metadata": {
    "execution": {
     "iopub.execute_input": "2025-04-29T02:56:50.736194Z",
     "iopub.status.busy": "2025-04-29T02:56:50.735900Z",
     "iopub.status.idle": "2025-04-29T02:57:17.219919Z",
     "shell.execute_reply": "2025-04-29T02:57:17.218933Z"
    },
    "papermill": {
     "duration": 26.489557,
     "end_time": "2025-04-29T02:57:17.221633",
     "exception": false,
     "start_time": "2025-04-29T02:56:50.732076",
     "status": "completed"
    },
    "tags": []
   },
   "outputs": [],
   "source": [
    "\n",
    "import pickle\n",
    "import numpy as np\n",
    "import torch\n",
    "import chess\n",
    "from torch.utils.data import Dataset, DataLoader, random_split\n",
    "\n",
    "p2i = {\n",
    "    chess.PAWN:   0, chess.KNIGHT: 1, chess.BISHOP: 2,\n",
    "    chess.ROOK:   3, chess.QUEEN:  4, chess.KING:   5,\n",
    "}\n",
    "\n",
    "move_encoding = {}  \n",
    "\n",
    "def convert_game_to_tensor(game):\n",
    "    fv = [\n",
    "        game['white_material'], game['black_material'],\n",
    "        game['material_balance'],\n",
    "        int(game['white_can_castle']), int(game['black_can_castle']),\n",
    "        game['white_center_control'], game['black_center_control'],\n",
    "    ]\n",
    "    lm = game['legal_moves_count'][:15] + [0]*(15 - len(game['legal_moves_count'][:15]))\n",
    "    fv.extend(lm)\n",
    "    global eco_encoding, default_eco\n",
    "    fv.append(eco_encoding.get(game['eco'], default_eco))\n",
    "    mi = []\n",
    "    for mv in game['moves'][:15]:\n",
    "        if mv not in move_encoding:\n",
    "            move_encoding[mv] = len(move_encoding)\n",
    "        mi.append(move_encoding[mv])\n",
    "    mi += [0]*(15-len(mi))\n",
    "    fv.extend(mi)\n",
    "    fv = np.array(fv, dtype=np.float32)\n",
    "    \n",
    "    bs = []\n",
    "    start_mat = 39\n",
    "    total_plys = len(game['legal_moves_count'])\n",
    "    for i in range(15):\n",
    "        prog = (i+1)/15\n",
    "        w = int(start_mat*(1-prog) + game['white_material']*prog)\n",
    "        b = int(start_mat*(1-prog) + game['black_material']*prog)\n",
    "        bal = w - b\n",
    "        idx_w, idx_b = 2*i, 2*i+1\n",
    "        lm_w = game['legal_moves_count'][idx_w]  if idx_w < total_plys else 0\n",
    "        lm_b = game['legal_moves_count'][idx_b]  if idx_b < total_plys else 0\n",
    "        bs.append([w, b, bal, lm_w, lm_b, i])\n",
    "    bs = np.array(bs, dtype=np.float32)\n",
    "    \n",
    "    board = chess.Board()\n",
    "    imgs = []\n",
    "    for mv in game['moves'][:15]:\n",
    "        try: board.push_san(mv)\n",
    "        except: board.push_uci(mv)\n",
    "        one_hot = np.zeros((12,8,8),dtype=np.float32)\n",
    "        for sq, piece in board.piece_map().items():\n",
    "            r, f = 7-(sq//8), sq%8\n",
    "            idx = (0 if piece.color else 6) + p2i[piece.piece_type]\n",
    "            one_hot[idx, r, f] = 1\n",
    "        imgs.append(one_hot)\n",
    "    while len(imgs)<15:\n",
    "        imgs.append(np.zeros((12,8,8),dtype=np.float32))\n",
    "    imgs = np.stack(imgs,axis=0)\n",
    "    \n",
    "    return fv, bs, imgs\n",
    "\n",
    "class ChessSequenceDataset(Dataset):\n",
    "    def __init__(self, games, result_map):\n",
    "        self.games = games\n",
    "        self.result_map = result_map\n",
    "    def __len__(self):\n",
    "        return len(self.games)\n",
    "    def __getitem__(self, ix):\n",
    "        fv, bs, img = convert_game_to_tensor(self.games[ix])\n",
    "        lbl = self.result_map[self.games[ix]['result']]\n",
    "        return (\n",
    "            torch.tensor(fv),\n",
    "            torch.tensor(bs),\n",
    "            torch.tensor(img),\n",
    "            torch.tensor(lbl, dtype=torch.long)\n",
    "        )\n",
    "\n",
    "dataset_path = \"/kaggle/input/chess-dataset/lichess_processed_1000000_games_first_15_moves.pkl\"\n",
    "with open(dataset_path, 'rb') as f:\n",
    "    raw_games = pickle.load(f)\n",
    "\n",
    "eco_codes = sorted({g['eco'] for g in raw_games})\n",
    "eco_encoding = {eco: idx for idx, eco in enumerate(eco_codes, start=1)}\n",
    "default_eco = -1\n",
    "\n",
    "\n",
    "\n",
    "binary_games = [g for g in raw_games if g['result'] in ('1-0','0-1')]\n",
    "\n",
    "\n",
    "ds = ChessSequenceDataset(binary_games, result_map={'1-0':0,'0-1':1})\n",
    "n_train = int(0.8*len(ds))\n",
    "train_ds, test_ds = random_split(ds, [n_train, len(ds)-n_train])\n",
    "\n",
    "train_loader = DataLoader(train_ds, batch_size=128, shuffle=True,  num_workers=4, pin_memory=True)\n",
    "test_loader  = DataLoader(test_ds,  batch_size=128, shuffle=False, num_workers=4, pin_memory=True)\n",
    "\n",
    "\n",
    "\n"
   ]
  },
  {
   "cell_type": "code",
   "execution_count": 3,
   "id": "ddc8a253",
   "metadata": {
    "execution": {
     "iopub.execute_input": "2025-04-29T02:57:17.227814Z",
     "iopub.status.busy": "2025-04-29T02:57:17.226906Z",
     "iopub.status.idle": "2025-04-29T03:00:53.369080Z",
     "shell.execute_reply": "2025-04-29T03:00:53.368207Z"
    },
    "papermill": {
     "duration": 216.148557,
     "end_time": "2025-04-29T03:00:53.372500",
     "exception": false,
     "start_time": "2025-04-29T02:57:17.223943",
     "status": "completed"
    },
    "tags": []
   },
   "outputs": [
    {
     "name": "stdout",
     "output_type": "stream",
     "text": [
      "Pearson r = 0.243, p-value = 0.00e+00\n"
     ]
    }
   ],
   "source": [
    "\n",
    "\n",
    "import numpy as np\n",
    "from scipy.stats import pearsonr\n",
    "\n",
    "balances = []\n",
    "labels   = []\n",
    "\n",
    "for fv, bs, img, label in test_ds:\n",
    "    mat_bal = fv.numpy()[2]     \n",
    "    is_white = 1 if label.item()==0 else 0\n",
    "    balances.append(mat_bal)\n",
    "    labels.append(is_white)\n",
    "\n",
    "balances = np.array(balances)\n",
    "labels   = np.array(labels)\n",
    "\n",
    "r, pval = pearsonr(balances, labels)\n",
    "print(f\"Pearson r = {r:.3f}, p-value = {pval:.2e}\")\n"
   ]
  },
  {
   "cell_type": "code",
   "execution_count": 4,
   "id": "8ad27a7f",
   "metadata": {
    "execution": {
     "iopub.execute_input": "2025-04-29T03:00:53.378252Z",
     "iopub.status.busy": "2025-04-29T03:00:53.377805Z",
     "iopub.status.idle": "2025-04-29T03:00:53.911118Z",
     "shell.execute_reply": "2025-04-29T03:00:53.910234Z"
    },
    "papermill": {
     "duration": 0.538087,
     "end_time": "2025-04-29T03:00:53.912776",
     "exception": false,
     "start_time": "2025-04-29T03:00:53.374689",
     "status": "completed"
    },
    "tags": []
   },
   "outputs": [
    {
     "name": "stdout",
     "output_type": "stream",
     "text": [
      "Material‐only Logistic Regression:\n",
      "  Accuracy = 0.588\n",
      "  AUC      = 0.630\n"
     ]
    }
   ],
   "source": [
    "\n",
    "from sklearn.linear_model   import LogisticRegression\n",
    "from sklearn.metrics        import accuracy_score, roc_auc_score\n",
    "from sklearn.model_selection import train_test_split\n",
    "\n",
    "X_train, X_test, y_train, y_test = train_test_split(\n",
    "    balances.reshape(-1,1), labels, test_size=0.2, random_state=42\n",
    ")\n",
    "\n",
    "clf = LogisticRegression(max_iter=1000).fit(X_train, y_train)\n",
    "y_pred = clf.predict(X_test)\n",
    "y_proba = clf.predict_proba(X_test)[:,1]\n",
    "\n",
    "print(\"Material‐only Logistic Regression:\")\n",
    "print(f\"  Accuracy = {accuracy_score(y_test, y_pred):.3f}\")\n",
    "print(f\"  AUC      = {roc_auc_score(y_test, y_proba):.3f}\")"
   ]
  }
 ],
 "metadata": {
  "kaggle": {
   "accelerator": "none",
   "dataSources": [
    {
     "datasetId": 7099910,
     "sourceId": 11347007,
     "sourceType": "datasetVersion"
    },
    {
     "isSourceIdPinned": false,
     "modelId": 322137,
     "modelInstanceId": 301636,
     "sourceId": 363388,
     "sourceType": "modelInstanceVersion"
    }
   ],
   "dockerImageVersionId": 31012,
   "isGpuEnabled": false,
   "isInternetEnabled": true,
   "language": "python",
   "sourceType": "notebook"
  },
  "kernelspec": {
   "display_name": "Python 3",
   "language": "python",
   "name": "python3"
  },
  "language_info": {
   "codemirror_mode": {
    "name": "ipython",
    "version": 3
   },
   "file_extension": ".py",
   "mimetype": "text/x-python",
   "name": "python",
   "nbconvert_exporter": "python",
   "pygments_lexer": "ipython3",
   "version": "3.11.11"
  },
  "papermill": {
   "default_parameters": {},
   "duration": 258.634353,
   "end_time": "2025-04-29T03:00:56.937388",
   "environment_variables": {},
   "exception": null,
   "input_path": "__notebook__.ipynb",
   "output_path": "__notebook__.ipynb",
   "parameters": {},
   "start_time": "2025-04-29T02:56:38.303035",
   "version": "2.6.0"
  }
 },
 "nbformat": 4,
 "nbformat_minor": 5
}
